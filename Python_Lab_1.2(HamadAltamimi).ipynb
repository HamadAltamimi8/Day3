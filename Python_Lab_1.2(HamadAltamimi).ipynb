{
 "cells": [
  {
   "cell_type": "markdown",
   "metadata": {},
   "source": [
    "# Python_Lab_1.2"
   ]
  },
  {
   "cell_type": "markdown",
   "metadata": {},
   "source": [
    "### Task 1: \n",
    "1. Create a tuple with the following details:\n",
    "    - Your favorite movie (string)\n",
    "    - The year it was released (integer)\n",
    "    - Its rating out of 10 (float)\n",
    "    - Whether you have watched it (boolean)\n",
    "2. Print the detailes"
   ]
  },
  {
   "cell_type": "code",
   "execution_count": 5,
   "metadata": {},
   "outputs": [
    {
     "name": "stdout",
     "output_type": "stream",
     "text": [
      "Favorite Movie Details:\n",
      "Movie: Lift\n",
      "Year Released: 2024\n",
      "Rating: 5.5\n",
      "Watched: True\n"
     ]
    }
   ],
   "source": [
    "favorite_movie_details = ( \"Lift\", 2024, 5.5, True )\n",
    "\n",
    "print(\"Favorite Movie Details:\")\n",
    "print(f\"Movie: {favorite_movie_details[0]}\")\n",
    "print(f\"Year Released: {favorite_movie_details[1]}\")\n",
    "print(f\"Rating: {favorite_movie_details[2]}\")\n",
    "print(f\"Watched: {favorite_movie_details[3]}\")"
   ]
  },
  {
   "cell_type": "markdown",
   "metadata": {},
   "source": [
    "### Task 2:\n",
    "1. Create a set of 5 favorite colors.\n",
    "2. Print all the colors"
   ]
  },
  {
   "cell_type": "code",
   "execution_count": 7,
   "metadata": {},
   "outputs": [
    {
     "name": "stdout",
     "output_type": "stream",
     "text": [
      "Favorite Colors:\n",
      "Blue\n",
      "Yellow\n",
      "Green\n",
      "Red\n",
      "Purple\n"
     ]
    }
   ],
   "source": [
    "\n",
    "favorite_colors = {\"Red\", \"Blue\", \"Green\", \"Yellow\", \"Purple\"}\n",
    "\n",
    "\n",
    "print(\"Favorite Colors:\")\n",
    "for color in favorite_colors:\n",
    "    print(color)\n"
   ]
  },
  {
   "cell_type": "markdown",
   "metadata": {},
   "source": [
    "### Task 3:\n",
    "1. Create a dictionary to store information about 3 friends (name as key and a tuple with age and favorite hobby as value).\n",
    "2. Print the details of all friends."
   ]
  },
  {
   "cell_type": "code",
   "execution_count": 9,
   "metadata": {},
   "outputs": [
    {
     "name": "stdout",
     "output_type": "stream",
     "text": [
      "Friends' Details:\n",
      "Name: Ali, Age: 25, Favorite Hobby: Reading\n",
      "Name: Sara, Age: 22, Favorite Hobby: Painting\n",
      "Name: Hamad, Age: 30, Favorite Hobby: Cycling\n"
     ]
    }
   ],
   "source": [
    "friends_info = {\n",
    "    \"Ali\": (25, \"Reading\"),\n",
    "    \"Sara\": (22, \"Painting\"),\n",
    "    \"Hamad\": (30, \"Cycling\")\n",
    "}\n",
    "\n",
    "print(\"Friends' Details:\")\n",
    "for name, details in friends_info.items():\n",
    "    age, hobby = details\n",
    "    print(f\"Name: {name}, Age: {age}, Favorite Hobby: {hobby}\")"
   ]
  },
  {
   "cell_type": "markdown",
   "metadata": {},
   "source": [
    "### Task 4:\n",
    "1. Check if you have watched the movie and print an appropriate message.\n",
    "1. Check if a specific color is in your favorite colors set and print its availability status."
   ]
  },
  {
   "cell_type": "code",
   "execution_count": 11,
   "metadata": {},
   "outputs": [
    {
     "name": "stdout",
     "output_type": "stream",
     "text": [
      "I have watched the movie.\n"
     ]
    }
   ],
   "source": [
    "favorite_movie_details = ( \"Lift\", 2024, 5.5, True )\n",
    "\n",
    "watched_movie = favorite_movie_details[3]\n",
    "if watched_movie:\n",
    "    print(\"I have watched the movie.\")\n",
    "else:\n",
    "    print(\"I have not watched the movie.\")"
   ]
  },
  {
   "cell_type": "code",
   "execution_count": 14,
   "metadata": {},
   "outputs": [
    {
     "name": "stdout",
     "output_type": "stream",
     "text": [
      "The color Blue is in my favorite colors set.\n"
     ]
    }
   ],
   "source": [
    "favorite_colors = {\"Red\", \"Blue\", \"Green\", \"Yellow\", \"Purple\"}\n",
    "color_to_check = \"Blue\"\n",
    "if color_to_check in favorite_colors:\n",
    "    print(f\"The color {color_to_check} is in my favorite colors set.\")\n",
    "else:\n",
    "    print(f\"The color {color_to_check} is not in my favorite colors set.\")"
   ]
  },
  {
   "cell_type": "code",
   "execution_count": null,
   "metadata": {},
   "outputs": [],
   "source": []
  }
 ],
 "metadata": {
  "kernelspec": {
   "display_name": "Python 3 (ipykernel)",
   "language": "python",
   "name": "python3"
  },
  "language_info": {
   "codemirror_mode": {
    "name": "ipython",
    "version": 3
   },
   "file_extension": ".py",
   "mimetype": "text/x-python",
   "name": "python",
   "nbconvert_exporter": "python",
   "pygments_lexer": "ipython3",
   "version": "3.12.4"
  }
 },
 "nbformat": 4,
 "nbformat_minor": 4
}
